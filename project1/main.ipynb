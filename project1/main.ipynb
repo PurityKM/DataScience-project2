{
 "cells": [
  {
   "cell_type": "code",
   "execution_count": 6,
   "id": "cd98a103",
   "metadata": {},
   "outputs": [
    {
     "name": "stdout",
     "output_type": "stream",
     "text": [
      "   col1  col2  col3\n",
      "0     1     5     9\n",
      "1     2     6     1\n",
      "2     3     7     0\n",
      "3     4     8     3\n",
      "3\n",
      "4\n"
     ]
    }
   ],
   "source": [
    "import pandas as pd\n",
    "\n",
    "d = {\n",
    "    'col1':[1,2,3,4],\n",
    "    'col2':[5,6,7,8],\n",
    "    'col3':[9,1,0,3]\n",
    "\n",
    "}\n",
    "\n",
    "df = pd.DataFrame(data=d)\n",
    "\n",
    "print(df)\n",
    "\n",
    "count_col = df.shape[1]\n",
    "\n",
    "count_rw = df.shape[0]\n",
    "\n",
    "\n",
    "print(count_col)\n",
    "\n",
    "print(count_rw)\n",
    "\n",
    "\n",
    "\n"
   ]
  },
  {
   "cell_type": "code",
   "execution_count": 10,
   "id": "d512d404",
   "metadata": {},
   "outputs": [
    {
     "name": "stdout",
     "output_type": "stream",
     "text": [
      "90\n",
      "12\n"
     ]
    }
   ],
   "source": [
    "Average_marks = max(76, 12, 35, 80, 75, 45, 90, 48, 50, 30, 45)\n",
    "\n",
    "Average_mark = min(76, 12, 35, 80, 75, 45, 90, 48, 50, 30, 45)\n",
    "\n",
    "print(Average_marks)\n",
    "print(Average_mark)\n"
   ]
  },
  {
   "cell_type": "code",
   "execution_count": 12,
   "id": "77b7eb23",
   "metadata": {},
   "outputs": [
    {
     "name": "stdout",
     "output_type": "stream",
     "text": [
      "53.27272727272727\n",
      "48.0\n"
     ]
    }
   ],
   "source": [
    "import numpy as np\n",
    "\n",
    "mark = [76, 12, 35, 80, 75, 45, 90, 48, 50, 30, 45]\n",
    "\n",
    "Avg_mark = np.mean(mark)\n",
    "Avg_marks = np.median(mark)\n",
    "\n",
    "print(Avg_mark)\n",
    "print(Avg_marks)"
   ]
  },
  {
   "cell_type": "code",
   "execution_count": 25,
   "id": "017f5c00",
   "metadata": {},
   "outputs": [
    {
     "data": {
      "image/png": "[encoded data removed]",
      "text/plain": [
       "<Figure size 432x288 with 1 Axes>"
      ]
     },
     "metadata": {},
     "output_type": "display_data"
    }
   ],
   "source": [
    "import matplotlib.pyplot as plt\n",
    "\n",
    "x = np.array([40,18,35,50,10])\n",
    "x_labels = ([\"apple\", \"cherry\", \"banana\",\"lemon\", \"orange\"])\n",
    "\n",
    "plt.pie(x, labels=x_labels)\n",
    "plt.show()"
   ]
  },
  {
   "cell_type": "code",
   "execution_count": 26,
   "id": "34efe5b2",
   "metadata": {},
   "outputs": [
    {
     "data": {
      "image/png": "[encoded data removed]",
      "text/plain": [
       "<Figure size 432x288 with 1 Axes>"
      ]
     },
     "metadata": {
      "needs_background": "light"
     },
     "output_type": "display_data"
    }
   ],
   "source": [
    "x = np.array([40,18,35,50,10])\n",
    "y = np.array([\"apple\", \"cherry\", \"banana\",\"lemon\", \"orange\"])\n",
    "\n",
    "plt.bar(x, y)\n",
    "\n",
    "plt.show()"
   ]
  },
  {
   "cell_type": "code",
   "execution_count": 24,
   "id": "e9821359",
   "metadata": {},
   "outputs": [
    {
     "data": {
      "image/png": "[encoded data removed]",
      "text/plain": [
       "<Figure size 432x288 with 1 Axes>"
      ]
     },
     "metadata": {
      "needs_background": "light"
     },
     "output_type": "display_data"
    }
   ],
   "source": [
    "x = np.random.normal(150, 20, 100)\n",
    "\n",
    "plt.hist(x)\n",
    "plt.show()"
   ]
  },
  {
   "cell_type": "code",
   "execution_count": 1,
   "id": "cf2459ff",
   "metadata": {},
   "outputs": [
    {
     "ename": "SyntaxError",
     "evalue": "invalid syntax (3728493410.py, line 3)",
     "output_type": "error",
     "traceback": [
      "\u001b[1;36m  Input \u001b[1;32mIn [1]\u001b[1;36m\u001b[0m\n\u001b[1;33m    df = pd.\u001b[0m\n\u001b[1;37m            ^\u001b[0m\n\u001b[1;31mSyntaxError\u001b[0m\u001b[1;31m:\u001b[0m invalid syntax\n"
     ]
    }
   ],
   "source": [
    "import pandas as pd\n",
    "i\n",
    "\n",
    "df = pd.data_csv"
   ]
  },
  {
   "cell_type": "code",
   "execution_count": 3,
   "id": "5e5fb884",
   "metadata": {},
   "outputs": [
    {
     "name": "stdout",
     "output_type": "stream",
     "text": [
      "purity\n"
     ]
    }
   ],
   "source": [
    "user_name = \"purity\"\n",
    "\n",
    "print(user_name)"
   ]
  },
  {
   "cell_type": "code",
   "execution_count": null,
   "id": "16f72c9f",
   "metadata": {},
   "outputs": [],
   "source": []
  }
 ],
 "metadata": {
  "kernelspec": {
   "display_name": "Python 3 (ipykernel)",
   "language": "python",
   "name": "python3"
  },
  "language_info": {
   "codemirror_mode": {
    "name": "ipython",
    "version": 3
   },
   "file_extension": ".py",
   "mimetype": "text/x-python",
   "name": "python",
   "nbconvert_exporter": "python",
   "pygments_lexer": "ipython3",
   "version": "3.9.12"
  }
 },
 "nbformat": 4,
 "nbformat_minor": 5
}
